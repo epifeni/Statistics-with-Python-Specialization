{
  "cells": [
    {
      "cell_type": "markdown",
      "metadata": {
        "id": "y1nhkESuWqyG"
      },
      "source": [
        "## Data Types in Python"
      ]
    },
    {
      "cell_type": "markdown",
      "metadata": {
        "id": "71VvwJHoWqyJ"
      },
      "source": [
        "In computing, a *data type* refers to the way in which a value is stored in the computer's memory, and to the types of calculations that can be performed on it.  The following data types can be used in base Python:\n",
        "\n",
        "* **boolean**\n",
        "* **integer**\n",
        "* **float**\n",
        "* **string**\n",
        "* **list**\n",
        "* **None**\n",
        "* complex\n",
        "* object\n",
        "* set\n",
        "* dictionary\n",
        "\n",
        "Here we will only focus on the **bolded** data types.  In this notebook, we will be using data types from base Python, as well as some data types from the numpy and pandas libraries.  Therefore we import the numpy library next."
      ]
    },
    {
      "cell_type": "code",
      "execution_count": 1,
      "metadata": {
        "id": "p1cNtSsiWqyK"
      },
      "outputs": [],
      "source": [
        "import numpy as np"
      ]
    },
    {
      "cell_type": "markdown",
      "metadata": {
        "id": "gTnDahNiWqyL"
      },
      "source": [
        "Let's connect these base Python data types to the *variable types* that we learned about in the [Variable Types video](https://www.coursera.org/learn/understanding-visualization-data/lecture/iDodZ/variable-types).  Recall that a \"variable type\" in this context refers to the type of information encoded in the variable, and informs the statistical analyses that can be performed on it.  While there is a relationship between data types in computing and variable types in statistics, they are distinct ideas, and there is no one-to-one mapping between them."
      ]
    },
    {
      "cell_type": "markdown",
      "metadata": {
        "id": "bZOmlsnsWqyM"
      },
      "source": [
        "###  The quantitative (numerical) variable type\n",
        "\n",
        "Quantitative variables usually represent an amount that can be measured in the real world.  It is possible to do arithmetic when working with quantitative variables. As a result, statistical summaries like the mean (average value) make sense.  Sometimes, it is useful to distinguish two types of quantitative variables:\n",
        "\n",
        "* Discrete -- a variable that can only take on a limited range of values, e.g. only positive integers\n",
        "* Continuous -- a variable that can in theory represent any real number, or a quantitative value measured to arbitrarily high precision\n",
        "\n",
        "It is often (but not always) the case that discrete data are reperented by the computer with integers, and continuous data are represented by the computer with float values.  \n",
        "\n",
        "In base Python a single \"literal\" number is stored as an integer or as a \"float\" value based on whether it is expressed with a decimal point.  We can see this in the following examples:"
      ]
    },
    {
      "cell_type": "code",
      "execution_count": 2,
      "metadata": {
        "colab": {
          "base_uri": "https://localhost:8080/"
        },
        "id": "-k2Lm2vlWqyM",
        "outputId": "21d2e244-1165-4dba-dd2d-8e8d37400a2e"
      },
      "outputs": [
        {
          "output_type": "execute_result",
          "data": {
            "text/plain": [
              "int"
            ]
          },
          "metadata": {},
          "execution_count": 2
        }
      ],
      "source": [
        "type(4)"
      ]
    },
    {
      "cell_type": "code",
      "execution_count": 3,
      "metadata": {
        "colab": {
          "base_uri": "https://localhost:8080/"
        },
        "id": "MCjQ2B6MWqyN",
        "outputId": "c9ea27e3-b249-46aa-cc9d-6683f9a4ea4c"
      },
      "outputs": [
        {
          "output_type": "execute_result",
          "data": {
            "text/plain": [
              "float"
            ]
          },
          "metadata": {},
          "execution_count": 3
        }
      ],
      "source": [
        "type(4.)"
      ]
    },
    {
      "cell_type": "code",
      "execution_count": 4,
      "metadata": {
        "colab": {
          "base_uri": "https://localhost:8080/"
        },
        "id": "dxN_RLcWWqyO",
        "outputId": "c10971f2-62b8-410d-ba51-3aea0a709dc0"
      },
      "outputs": [
        {
          "output_type": "execute_result",
          "data": {
            "text/plain": [
              "int"
            ]
          },
          "metadata": {},
          "execution_count": 4
        }
      ],
      "source": [
        "type(0)"
      ]
    },
    {
      "cell_type": "code",
      "execution_count": 5,
      "metadata": {
        "colab": {
          "base_uri": "https://localhost:8080/"
        },
        "id": "hnLy5X_zWqyO",
        "outputId": "e15df857-05c2-44da-96dd-7c3b988726d7"
      },
      "outputs": [
        {
          "output_type": "execute_result",
          "data": {
            "text/plain": [
              "int"
            ]
          },
          "metadata": {},
          "execution_count": 5
        }
      ],
      "source": [
        "type(-3)"
      ]
    },
    {
      "cell_type": "markdown",
      "metadata": {
        "id": "-QzJM9ShWqyP"
      },
      "source": [
        "**Floats**"
      ]
    },
    {
      "cell_type": "markdown",
      "metadata": {
        "id": "_r754EDrWqyP"
      },
      "source": [
        "Floating point values are the main numeric data type used to represent quantitative data, or any numeric value that is not a whole number."
      ]
    },
    {
      "cell_type": "code",
      "execution_count": null,
      "metadata": {
        "id": "4oyhoWTqWqyP",
        "outputId": "a010b634-290a-435b-97be-4c0b4e5cd058"
      },
      "outputs": [
        {
          "data": {
            "text/plain": [
              "0.6"
            ]
          },
          "execution_count": 203,
          "metadata": {},
          "output_type": "execute_result"
        }
      ],
      "source": [
        "3/5"
      ]
    },
    {
      "cell_type": "markdown",
      "metadata": {
        "id": "vj2URtonWqyP"
      },
      "source": [
        "Recall that `**` represents exponentiation in Python."
      ]
    },
    {
      "cell_type": "code",
      "execution_count": null,
      "metadata": {
        "id": "z97VIkU-WqyQ",
        "outputId": "28c626a4-adfd-43a0-9d91-dbf0634053ee"
      },
      "outputs": [
        {
          "data": {
            "text/plain": [
              "0.6000000000000001"
            ]
          },
          "execution_count": 204,
          "metadata": {},
          "output_type": "execute_result"
        }
      ],
      "source": [
        "6*10**(-1)"
      ]
    },
    {
      "cell_type": "code",
      "execution_count": null,
      "metadata": {
        "id": "sPvuZcxSWqyQ",
        "outputId": "ca0590f9-55a0-4cf6-812c-a230e0e99d5a"
      },
      "outputs": [
        {
          "data": {
            "text/plain": [
              "float"
            ]
          },
          "execution_count": 205,
          "metadata": {},
          "output_type": "execute_result"
        }
      ],
      "source": [
        "type(3/5)"
      ]
    },
    {
      "cell_type": "markdown",
      "metadata": {
        "id": "bm3fBoY9WqyQ"
      },
      "source": [
        "The integer division operator // divides two integers and drops the remainder."
      ]
    },
    {
      "cell_type": "code",
      "execution_count": null,
      "metadata": {
        "id": "kuZA82OpWqyQ",
        "outputId": "06d8cb0f-cc29-4f10-a5df-a8e93e52837d"
      },
      "outputs": [
        {
          "name": "stdout",
          "output_type": "stream",
          "text": [
            "0\n"
          ]
        },
        {
          "data": {
            "text/plain": [
              "int"
            ]
          },
          "execution_count": 206,
          "metadata": {},
          "output_type": "execute_result"
        }
      ],
      "source": [
        "print(3//5)\n",
        "type(3//5)"
      ]
    },
    {
      "cell_type": "code",
      "execution_count": null,
      "metadata": {
        "id": "5tp_fwoKWqyR",
        "outputId": "d3df3f87-3446-443e-9fa0-d6484965eea6"
      },
      "outputs": [
        {
          "data": {
            "text/plain": [
              "float"
            ]
          },
          "execution_count": 207,
          "metadata": {},
          "output_type": "execute_result"
        }
      ],
      "source": [
        "type(np.pi)"
      ]
    },
    {
      "cell_type": "code",
      "execution_count": null,
      "metadata": {
        "id": "TfGJ2RAgWqyR",
        "outputId": "4507cbd2-e990-416a-c66b-070cdea61181"
      },
      "outputs": [
        {
          "data": {
            "text/plain": [
              "float"
            ]
          },
          "execution_count": 208,
          "metadata": {},
          "output_type": "execute_result"
        }
      ],
      "source": [
        "type(4.0)"
      ]
    },
    {
      "cell_type": "markdown",
      "metadata": {
        "id": "PvSGEgjcWqyR"
      },
      "source": [
        "Python will promote integers to float values when the result of an arithmetic operation cannot be represented as an integer.  For example, below we calculate the mean of a sequence of integers using base Python:"
      ]
    },
    {
      "cell_type": "code",
      "execution_count": null,
      "metadata": {
        "id": "6srgzJRwWqyR",
        "outputId": "a0a435a7-49ca-4062-942b-7f6acfb41310"
      },
      "outputs": [
        {
          "name": "stdout",
          "output_type": "stream",
          "text": [
            "3.5\n"
          ]
        },
        {
          "data": {
            "text/plain": [
              "float"
            ]
          },
          "execution_count": 209,
          "metadata": {},
          "output_type": "execute_result"
        }
      ],
      "source": [
        "numbers = [2, 3, 4, 5]\n",
        "print(sum(numbers)/len(numbers))\n",
        "type(sum(numbers)/len(numbers))"
      ]
    },
    {
      "cell_type": "markdown",
      "metadata": {
        "id": "6YfUrj67WqyR"
      },
      "source": [
        "We can do something similar using Numpy.  Note that here we obtain a \"numpy float\" which is distinct from a base Python float.  For most purposes we can treat these two varieties of floats as being equivalent."
      ]
    },
    {
      "cell_type": "code",
      "execution_count": null,
      "metadata": {
        "id": "ij-VM1Y4WqyS",
        "outputId": "a7d04f9f-a5f2-42d3-9de1-40e4521f1bb2"
      },
      "outputs": [
        {
          "name": "stdout",
          "output_type": "stream",
          "text": [
            "3.5\n",
            "<class 'numpy.float64'>\n"
          ]
        }
      ],
      "source": [
        "numbers = np.r_[2, 3, 4, 5] # creates a one-dimensional array from a Python list\n",
        "print(numbers.mean())\n",
        "print(type(numbers.mean()))"
      ]
    },
    {
      "cell_type": "code",
      "source": [
        "numbers = np.r_[2, 3.2, 4, 5] # creates a one-dimensional array from a Python list\n",
        "print(numbers.mean())\n",
        "print(type(numbers.mean()))"
      ],
      "metadata": {
        "colab": {
          "base_uri": "https://localhost:8080/"
        },
        "id": "UcCj1uLwZJg6",
        "outputId": "3c1125b6-7a5d-44c8-c4ca-e4e5c840e70b"
      },
      "execution_count": 8,
      "outputs": [
        {
          "output_type": "stream",
          "name": "stdout",
          "text": [
            "3.55\n",
            "<class 'numpy.float64'>\n"
          ]
        }
      ]
    },
    {
      "cell_type": "markdown",
      "metadata": {
        "id": "407CXt3TWqyS"
      },
      "source": [
        "### Categorical (or qualitative) variable types\n",
        "\n",
        "In statistics, there are two main variants of a categorical variable:\n",
        "\n",
        "* *Nominal* variables have no ordering, e.g. what country was a person born in, or whether a person is of age 65 years or older.\n",
        "\n",
        "* *Ordinal* variables have an ordering, e.g. how many times has a person been involved in a traffic accident, or how strongly does a person support a policy (e.g. strongly oppose, neutral, strongly support)\n",
        "\n",
        "In base Python, Integer (int), Boolean (bool), and String (str) data types are often used to represent nominal values.\n",
        "\n",
        "Ordinal values may be represented by numbers, but it is important to remember that these numbers are codes that do not contain any quantitative information."
      ]
    },
    {
      "cell_type": "markdown",
      "metadata": {
        "id": "sl1KsGuoWqyS"
      },
      "source": [
        "**Boolean**\n",
        "\n",
        "A Boolean variable has two possible values: \"True\" and \"False\" (in Python the capitalization of these terms is important).  A \"Boolean expression\" is an expression involving comparison operators (<, <=, >, >=, ==) that evaluates to a Boolean value."
      ]
    },
    {
      "cell_type": "code",
      "execution_count": null,
      "metadata": {
        "id": "PoOKNXklWqyS",
        "outputId": "1c16acb9-bad5-44d6-ccea-50730d0baf05"
      },
      "outputs": [
        {
          "data": {
            "text/plain": [
              "bool"
            ]
          },
          "execution_count": 211,
          "metadata": {},
          "output_type": "execute_result"
        }
      ],
      "source": [
        "# Boolean\n",
        "type(True)"
      ]
    },
    {
      "cell_type": "code",
      "execution_count": null,
      "metadata": {
        "id": "Bm3CK6d9WqyS",
        "outputId": "d0a1c94f-cbdf-4228-e5c1-1cb2a6dd7d45"
      },
      "outputs": [
        {
          "name": "stdout",
          "output_type": "stream",
          "text": [
            "False\n",
            "True\n",
            "<class 'bool'>\n"
          ]
        }
      ],
      "source": [
        "# Print the result of two Boolean expressions\n",
        "print(6 < 5)\n",
        "print(5 < 6)\n",
        "\n",
        "# Print the type of a Boolean expression's result\n",
        "print(type(6 < 5))"
      ]
    },
    {
      "cell_type": "markdown",
      "metadata": {
        "id": "0PLLN0OoWqyT"
      },
      "source": [
        "Boolean expressions are often used in \"if blocks\" to control program flow"
      ]
    },
    {
      "cell_type": "code",
      "execution_count": 9,
      "metadata": {
        "id": "yE3FRBYGWqyT"
      },
      "outputs": [],
      "source": [
        "if 6 < 5:\n",
        "    print(\"Yes!\")"
      ]
    },
    {
      "cell_type": "markdown",
      "metadata": {
        "id": "TePEdtMHWqyT"
      },
      "source": [
        "Square brackets [...] create a literal list.  The list here contains only values of Boolean type.  See below for further discussion of \"None\" and \"is\""
      ]
    },
    {
      "cell_type": "code",
      "execution_count": 12,
      "metadata": {
        "colab": {
          "base_uri": "https://localhost:8080/"
        },
        "id": "yEfzNX0IWqyT",
        "outputId": "c58a75e1-5d89-4415-ce0c-3469c84963cb"
      },
      "outputs": [
        {
          "output_type": "stream",
          "name": "stdout",
          "text": [
            "[True, False, False, True]\n",
            "<class 'bool'>\n",
            "<class 'bool'>\n",
            "<class 'bool'>\n",
            "<class 'bool'>\n"
          ]
        }
      ],
      "source": [
        "myList = [True, 6<5, 1==3, None is None] # is refers to memory location\n",
        "print(myList)\n",
        "for element in myList:\n",
        "    print(type(element))"
      ]
    },
    {
      "cell_type": "markdown",
      "metadata": {
        "id": "hnfKBqwnWqyT"
      },
      "source": [
        "Python converts Boolean values to integers when doing arithmetic: False is converted to 0 and True is converted to 1."
      ]
    },
    {
      "cell_type": "code",
      "execution_count": null,
      "metadata": {
        "id": "Snvtl6ktWqyU",
        "outputId": "c9040078-3f31-4437-baa1-5258e5edce83"
      },
      "outputs": [
        {
          "name": "stdout",
          "output_type": "stream",
          "text": [
            "0.5\n"
          ]
        },
        {
          "data": {
            "text/plain": [
              "float"
            ]
          },
          "execution_count": 215,
          "metadata": {},
          "output_type": "execute_result"
        }
      ],
      "source": [
        "print(sum(myList)/len(myList))\n",
        "type(sum(myList)/len(myList))"
      ]
    },
    {
      "cell_type": "markdown",
      "metadata": {
        "id": "y9vTDc57WqyU"
      },
      "source": [
        "**Strings**"
      ]
    },
    {
      "cell_type": "markdown",
      "metadata": {
        "id": "10m9tyPlWqyU"
      },
      "source": [
        "A string is a single \"text\" value of arbitrary length.  Technically, text in Python3 is encoded using a scheme called [unicode](https://en.wikipedia.org/wiki/Unicode).  Characters from nearly every human language can be a part of a unicode string.  \n",
        "\n",
        "Single or double quotes are equivalent in Python and can be used to create string literals."
      ]
    },
    {
      "cell_type": "code",
      "execution_count": null,
      "metadata": {
        "id": "k8ndi8l1WqyU",
        "outputId": "d88bbe02-40e5-4f28-ff85-c499dfa64d7a"
      },
      "outputs": [
        {
          "data": {
            "text/plain": [
              "str"
            ]
          },
          "execution_count": 216,
          "metadata": {},
          "output_type": "execute_result"
        }
      ],
      "source": [
        "type(\"This sentence makes sense\")"
      ]
    },
    {
      "cell_type": "code",
      "execution_count": null,
      "metadata": {
        "id": "NAGLVVkdWqyU",
        "outputId": "a32fd209-7b67-4a77-cfd7-f06417fd4ad5"
      },
      "outputs": [
        {
          "data": {
            "text/plain": [
              "str"
            ]
          },
          "execution_count": 217,
          "metadata": {},
          "output_type": "execute_result"
        }
      ],
      "source": [
        "type('This sentence makes sense')"
      ]
    },
    {
      "cell_type": "markdown",
      "metadata": {
        "id": "Z6ye1TU3WqyU"
      },
      "source": [
        "Note that the back-tick character cannot be used to create a string literal."
      ]
    },
    {
      "cell_type": "code",
      "execution_count": null,
      "metadata": {
        "id": "eyllZLx2WqyV"
      },
      "outputs": [],
      "source": [
        "# This is not allowed\n",
        "# x = `invalid`"
      ]
    },
    {
      "cell_type": "markdown",
      "metadata": {
        "id": "Do9O07l3Wqyf"
      },
      "source": [
        "Triple quotes can be used when you want a literal string to span multiple lines.  Try this with single quotes and you will see that if fails."
      ]
    },
    {
      "cell_type": "code",
      "execution_count": null,
      "metadata": {
        "id": "OSVr7OBWWqyg",
        "outputId": "a13695a9-2c61-4364-a4ed-0b86a97f2ab3"
      },
      "outputs": [
        {
          "name": "stdout",
          "output_type": "stream",
          "text": [
            "This sentence makes \n",
            "sense\n"
          ]
        }
      ],
      "source": [
        "print(\"\"\"This sentence makes\n",
        "sense\"\"\")"
      ]
    },
    {
      "cell_type": "markdown",
      "metadata": {
        "id": "ppdLwgb4Wqyg"
      },
      "source": [
        "A Python expression in quotion marks is a string and is not evaluated as code by the Python interpreter."
      ]
    },
    {
      "cell_type": "code",
      "execution_count": null,
      "metadata": {
        "id": "YVUniUm3Wqyg",
        "outputId": "5a96cce3-7949-41a0-e5b9-791d80ff0e44"
      },
      "outputs": [
        {
          "data": {
            "text/plain": [
              "str"
            ]
          },
          "execution_count": 220,
          "metadata": {},
          "output_type": "execute_result"
        }
      ],
      "source": [
        "type(\"np.pi\")"
      ]
    },
    {
      "cell_type": "markdown",
      "metadata": {
        "id": "3juC0LDxWqyg"
      },
      "source": [
        "It does not make sense to take the average of string values, so an error results."
      ]
    },
    {
      "cell_type": "code",
      "execution_count": null,
      "metadata": {
        "id": "KWaYK8tcWqyg"
      },
      "outputs": [],
      "source": [
        "x = np.asarray(['dog', 'koala', 'goose'])\n",
        "# This is not allowed:\n",
        "# x.mean()"
      ]
    },
    {
      "cell_type": "markdown",
      "metadata": {
        "id": "cW0O7o-KWqyg"
      },
      "source": [
        "**Nonetype**"
      ]
    },
    {
      "cell_type": "markdown",
      "metadata": {
        "id": "x9nviIEpWqyg"
      },
      "source": [
        "None is a special value that is a placeholder representing \"no meaningful value\". It is often returned by functions that never return a value, or that cannot return a value for certain inputs."
      ]
    },
    {
      "cell_type": "code",
      "execution_count": null,
      "metadata": {
        "id": "9ONoG5XHWqyh",
        "outputId": "8bbdf1e0-50d1-4af1-8aad-b81198a046ed"
      },
      "outputs": [
        {
          "data": {
            "text/plain": [
              "NoneType"
            ]
          },
          "execution_count": 222,
          "metadata": {},
          "output_type": "execute_result"
        }
      ],
      "source": [
        "type(None)"
      ]
    },
    {
      "cell_type": "markdown",
      "metadata": {
        "id": "QD1orcMlWqyh"
      },
      "source": [
        "None can be compared using \"is\" or \"==\" but conventionaly \"is\" is preferred"
      ]
    },
    {
      "cell_type": "code",
      "execution_count": null,
      "metadata": {
        "id": "dK700WiyWqyh",
        "outputId": "fca476c7-2cb0-4c69-f553-13458f5f413f"
      },
      "outputs": [
        {
          "data": {
            "text/plain": [
              "True"
            ]
          },
          "execution_count": 223,
          "metadata": {},
          "output_type": "execute_result"
        }
      ],
      "source": [
        "None is None\n",
        "None == None"
      ]
    },
    {
      "cell_type": "markdown",
      "metadata": {
        "id": "sGjIaA-9Wqyh"
      },
      "source": [
        "None cannot be used in arithmetic:"
      ]
    },
    {
      "cell_type": "code",
      "execution_count": null,
      "metadata": {
        "id": "FpbXSSxXWqyh"
      },
      "outputs": [],
      "source": [
        "noneList = [None]*5\n",
        "# This is not allowed:\n",
        "# sum(noneList)/len(noneList)"
      ]
    },
    {
      "cell_type": "markdown",
      "metadata": {
        "id": "-5P-EK90Wqyh"
      },
      "source": [
        "**Lists**\n",
        "\n",
        "A list can hold values (posssibly of different types) in sequence."
      ]
    },
    {
      "cell_type": "code",
      "execution_count": null,
      "metadata": {
        "id": "Z4Pc1VUFWqyi",
        "outputId": "b8913885-0cfb-4763-93cc-e024e84d0ff6"
      },
      "outputs": [
        {
          "name": "stdout",
          "output_type": "stream",
          "text": [
            "<class 'int'>\n",
            "<class 'float'>\n",
            "<class 'str'>\n",
            "<class 'NoneType'>\n"
          ]
        }
      ],
      "source": [
        "myList = [1, 1.1, \"This is a string\", None]\n",
        "for element in myList:\n",
        "    print(type(element))"
      ]
    },
    {
      "cell_type": "markdown",
      "metadata": {
        "id": "7q29WS3tWqyi"
      },
      "source": [
        "As we have seen, arithmetic operations can only be used with numeric values:"
      ]
    },
    {
      "cell_type": "code",
      "execution_count": null,
      "metadata": {
        "id": "XQheeT3qWqyi"
      },
      "outputs": [],
      "source": [
        "# This is not allowed:\n",
        "# sum(myList)/len(myList)"
      ]
    },
    {
      "cell_type": "code",
      "execution_count": null,
      "metadata": {
        "id": "BcOINTdQWqyi",
        "outputId": "37d65c8c-13e4-4a6e-8e97-db5b3471c229"
      },
      "outputs": [
        {
          "name": "stdout",
          "output_type": "stream",
          "text": [
            "<class 'int'>\n",
            "<class 'int'>\n",
            "<class 'int'>\n"
          ]
        },
        {
          "data": {
            "text/plain": [
              "2.0"
            ]
          },
          "execution_count": 227,
          "metadata": {},
          "output_type": "execute_result"
        }
      ],
      "source": [
        "myList = [1, 2, 3]\n",
        "for element in myList:\n",
        "    print(type(element))\n",
        "sum(myList)/len(myList) # note that this outputs a float"
      ]
    },
    {
      "cell_type": "markdown",
      "metadata": {
        "id": "WG0xKwJnWqyi"
      },
      "source": [
        "Elements of lists and vectors can be accessed by position, noting that Python always counts from zero:"
      ]
    },
    {
      "cell_type": "code",
      "execution_count": 13,
      "metadata": {
        "colab": {
          "base_uri": "https://localhost:8080/",
          "height": 35
        },
        "id": "awwWCDE1Wqyi",
        "outputId": "c5cdb7fb-7d21-4f57-aa66-4ccd8fe95004"
      },
      "outputs": [
        {
          "output_type": "execute_result",
          "data": {
            "text/plain": [
              "'third'"
            ],
            "application/vnd.google.colaboratory.intrinsic+json": {
              "type": "string"
            }
          },
          "metadata": {},
          "execution_count": 13
        }
      ],
      "source": [
        "myList = ['third', 'first', 'medium', 'small', 'large', 'medium']\n",
        "myList[0]"
      ]
    },
    {
      "cell_type": "markdown",
      "metadata": {
        "id": "Z96vyhwwWqyj"
      },
      "source": [
        "You can invoke certain \"methods\" on a list, which may compute a result using the list, or change the contents of the list."
      ]
    },
    {
      "cell_type": "code",
      "execution_count": 14,
      "metadata": {
        "colab": {
          "base_uri": "https://localhost:8080/"
        },
        "id": "9TJ7mXWEWqyj",
        "outputId": "7e201655-086c-46e0-8ee0-545398b79166"
      },
      "outputs": [
        {
          "output_type": "execute_result",
          "data": {
            "text/plain": [
              "2"
            ]
          },
          "metadata": {},
          "execution_count": 14
        }
      ],
      "source": [
        "myList.count('medium')"
      ]
    },
    {
      "cell_type": "code",
      "execution_count": null,
      "metadata": {
        "id": "7n8E5fjvWqyj",
        "outputId": "c37cdaca-2b88-49cf-90ba-c2633dee3a04"
      },
      "outputs": [
        {
          "data": {
            "text/plain": [
              "['first', 'large', 'medium', 'small', 'third']"
            ]
          },
          "execution_count": 230,
          "metadata": {},
          "output_type": "execute_result"
        }
      ],
      "source": [
        "myList.sort()\n",
        "myList"
      ]
    },
    {
      "cell_type": "markdown",
      "metadata": {
        "id": "Aq52r1w1Wqyj"
      },
      "source": [
        "There are more datatypes available when using different libraries such as Pandas and Numpy, which we will introduce to you as we use them."
      ]
    }
  ],
  "metadata": {
    "kernelspec": {
      "display_name": "Python 3 (ipykernel)",
      "language": "python",
      "name": "python3"
    },
    "language_info": {
      "codemirror_mode": {
        "name": "ipython",
        "version": 3
      },
      "file_extension": ".py",
      "mimetype": "text/x-python",
      "name": "python",
      "nbconvert_exporter": "python",
      "pygments_lexer": "ipython3",
      "version": "3.9.7"
    },
    "colab": {
      "provenance": []
    }
  },
  "nbformat": 4,
  "nbformat_minor": 0
}